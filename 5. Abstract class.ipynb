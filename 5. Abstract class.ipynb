{
 "cells": [
  {
   "attachments": {},
   "cell_type": "markdown",
   "id": "12f316e1",
   "metadata": {},
   "source": [
    "An abstract class can be considered as a blueprint for other classes. It allows you to create a set of methods that must be created within any child classes built from the abstract class. A class which contains one or more abstract methods is called an abstract class. An abstract method is a method that has a declaration but does not have an implementation. While we are designing large functional units we use an abstract class. When we want to provide a common interface for different implementations of a component, we use an abstract class. \n",
    "  \n",
    "Why use Abstract Base Classes : \n",
    "\n",
    "By defining an abstract base class, you can define a common Application Program Interface(API) for a set of subclasses. This capability is especially useful in situations where a third-party is going to provide implementations, such as with plugins, but can also help you when working in a large team or with a large code-base where keeping all classes in your mind is difficult or not possible. "
   ]
  },
  {
   "attachments": {},
   "cell_type": "markdown",
   "id": "0de7734d",
   "metadata": {},
   "source": [
    "Interface\n",
    "\n",
    "In python there is not explicity available, like in other language. But \n",
    "In python , an interface is an abstract class which contains only abstract methid but not a single concreate method. \n",
    "\n",
    "We can call bellow call a Interface"
   ]
  },
  {
   "cell_type": "code",
   "execution_count": 1,
   "id": "40546cfb-c010-462b-84d2-8f751303e079",
   "metadata": {},
   "outputs": [],
   "source": [
    "import abc\n",
    "from abc import ABC, abstractmethod\n",
    "class student(ABC):\n",
    "    \n",
    "    @abc.abstractmethod\n",
    "    def students_detials(self):\n",
    "        pass\n",
    "    \n",
    "    @abc.abstractmethod\n",
    "    def student_assignemnt(self):\n",
    "        pass\n",
    "    \n",
    "    @abc.abstractmethod\n",
    "    def student_marks(self):\n",
    "        pass"
   ]
  },
  {
   "cell_type": "code",
   "execution_count": 15,
   "id": "9013b08c-7341-45aa-89bd-35a09e6dc3ad",
   "metadata": {},
   "outputs": [],
   "source": [
    "class student_detils(student):\n",
    "    \n",
    "    def students_detials(self): #Method overriding\n",
    "        return \"this is a meth for taking students details\"\n",
    "    \n",
    "    def student_assignemnt(self):\n",
    "        return \"this is a meth for assing details for a perticualt student\""
   ]
  },
  {
   "cell_type": "code",
   "execution_count": 16,
   "id": "28533a52-fc10-4a0a-b7ef-b579af429338",
   "metadata": {},
   "outputs": [],
   "source": [
    "class data_science_maters(student):\n",
    "    \n",
    "    def students_detials(self):\n",
    "        return \"this will return a student details for data science masters \"\n",
    "    \n",
    "    def student_assignemnt(self):\n",
    "        return \"this will give you a studnt assignment detaild for data science masters \""
   ]
  },
  {
   "cell_type": "code",
   "execution_count": 17,
   "id": "8ee48a80-6f32-42c4-a32f-bdf6d743c971",
   "metadata": {},
   "outputs": [
    {
     "data": {
      "text/plain": [
       "'this will return a student details for data science masters '"
      ]
     },
     "execution_count": 17,
     "metadata": {},
     "output_type": "execute_result"
    }
   ],
   "source": [
    "dsm = data_science_maters()\n",
    "dsm.students_detials()"
   ]
  },
  {
   "cell_type": "code",
   "execution_count": 18,
   "id": "455b7a49-26a5-4b0c-be88-6e85963f2e0d",
   "metadata": {},
   "outputs": [
    {
     "data": {
      "text/plain": [
       "'this is a meth for taking students details'"
      ]
     },
     "execution_count": 18,
     "metadata": {},
     "output_type": "execute_result"
    }
   ],
   "source": [
    "sd= student_detils()\n",
    "sd.students_detials()"
   ]
  },
  {
   "cell_type": "code",
   "execution_count": 1,
   "id": "802ca483-b010-4d11-b57f-b8e36f1edcd5",
   "metadata": {},
   "outputs": [],
   "source": [
    "# Python program showing\n",
    "# abstract base class work\n",
    "\n",
    "from abc import ABC, abstractmethod\n",
    "class Animal(ABC):\n",
    "\n",
    "\tdef move(self):\n",
    "\t\tpass\n",
    "\n",
    "class Human(Animal):\n",
    "\n",
    "\tdef move(self):\n",
    "\t\tprint(\"I can walk and run\")\n",
    "\n",
    "class Snake(Animal):\n",
    "\n",
    "\tdef move(self):\n",
    "\t\tprint(\"I can crawl\")\n",
    "\n",
    "class Dog(Animal):\n",
    "\n",
    "\tdef move(self):\n",
    "\t\tprint(\"I can bark\")\n",
    "\n",
    "class Lion(Animal):\n",
    "\n",
    "\tdef move(self):\n",
    "\t\tprint(\"I can roar\")\n",
    "\t\t"
   ]
  },
  {
   "cell_type": "code",
   "execution_count": 2,
   "id": "35f7c0e4",
   "metadata": {},
   "outputs": [
    {
     "name": "stdout",
     "output_type": "stream",
     "text": [
      "I can walk and run\n"
     ]
    }
   ],
   "source": [
    "# Driver code\n",
    "R = Human()\n",
    "R.move()"
   ]
  },
  {
   "cell_type": "code",
   "execution_count": 3,
   "id": "7f417700",
   "metadata": {},
   "outputs": [
    {
     "name": "stdout",
     "output_type": "stream",
     "text": [
      "I can crawl\n"
     ]
    }
   ],
   "source": [
    "K = Snake()\n",
    "K.move()"
   ]
  },
  {
   "cell_type": "code",
   "execution_count": 4,
   "id": "5cdee8f5",
   "metadata": {},
   "outputs": [
    {
     "name": "stdout",
     "output_type": "stream",
     "text": [
      "I can bark\n"
     ]
    }
   ],
   "source": [
    "R = Dog()\n",
    "R.move()"
   ]
  },
  {
   "cell_type": "code",
   "execution_count": 5,
   "id": "d36c0783",
   "metadata": {},
   "outputs": [
    {
     "name": "stdout",
     "output_type": "stream",
     "text": [
      "I can roar\n"
     ]
    }
   ],
   "source": [
    "K = Lion()\n",
    "K.move()"
   ]
  }
 ],
 "metadata": {
  "kernelspec": {
   "display_name": "Python 3 (ipykernel)",
   "language": "python",
   "name": "python3"
  },
  "language_info": {
   "codemirror_mode": {
    "name": "ipython",
    "version": 3
   },
   "file_extension": ".py",
   "mimetype": "text/x-python",
   "name": "python",
   "nbconvert_exporter": "python",
   "pygments_lexer": "ipython3",
   "version": "3.11.3"
  }
 },
 "nbformat": 4,
 "nbformat_minor": 5
}
