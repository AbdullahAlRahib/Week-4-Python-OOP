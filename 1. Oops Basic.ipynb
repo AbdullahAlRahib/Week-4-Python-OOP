{
 "cells": [
  {
   "attachments": {},
   "cell_type": "markdown",
   "id": "5f5f44dc-7790-4d76-ba0d-81b27963d2d9",
   "metadata": {},
   "source": [
    "\"Oops\" stands for Object-Oriented Programming System"
   ]
  },
  {
   "cell_type": "code",
   "execution_count": 22,
   "id": "49ff14d3-8b20-49f5-808e-68a7a94b13ce",
   "metadata": {},
   "outputs": [],
   "source": [
    "a = 1 "
   ]
  },
  {
   "cell_type": "code",
   "execution_count": 23,
   "id": "b4c9b3bb-6a88-49c7-9bd0-b012fc62a6fa",
   "metadata": {},
   "outputs": [
    {
     "name": "stdout",
     "output_type": "stream",
     "text": [
      "<class 'int'>\n"
     ]
    }
   ],
   "source": [
    "print(type(a))"
   ]
  },
  {
   "cell_type": "code",
   "execution_count": 24,
   "id": "4a57160b-1454-4574-b833-e4e58c5e2536",
   "metadata": {},
   "outputs": [
    {
     "name": "stdout",
     "output_type": "stream",
     "text": [
      "<class 'str'>\n"
     ]
    }
   ],
   "source": [
    "print(type(\"pwskills\"))"
   ]
  },
  {
   "cell_type": "code",
   "execution_count": 25,
   "id": "d6cb2c14-823d-436b-85a2-1afa2266e1d1",
   "metadata": {},
   "outputs": [],
   "source": [
    "class test :\n",
    "    pass"
   ]
  },
  {
   "cell_type": "code",
   "execution_count": 26,
   "id": "fa923333-3e3e-48b3-b7e4-6efb819c3f58",
   "metadata": {},
   "outputs": [],
   "source": [
    "a = test()"
   ]
  },
  {
   "cell_type": "code",
   "execution_count": 27,
   "id": "f9719db9-e4c2-4e21-aa9d-9f4afbda8874",
   "metadata": {},
   "outputs": [
    {
     "data": {
      "text/plain": [
       "__main__.test"
      ]
     },
     "execution_count": 27,
     "metadata": {},
     "output_type": "execute_result"
    }
   ],
   "source": [
    "type(a)"
   ]
  },
  {
   "cell_type": "code",
   "execution_count": 28,
   "id": "44f474ba-e47a-437f-b7b5-4645e308d598",
   "metadata": {},
   "outputs": [
    {
     "name": "stdout",
     "output_type": "stream",
     "text": [
      "<class '__main__.test'>\n"
     ]
    }
   ],
   "source": [
    "print(type(a))"
   ]
  },
  {
   "cell_type": "code",
   "execution_count": 29,
   "id": "e974ee5e-1cd8-4761-9f6b-371a697e7312",
   "metadata": {},
   "outputs": [],
   "source": [
    "class pcu : \n",
    "    \n",
    "    def welcome_msg(self):\n",
    "        print(\"welcome to pcu\")"
   ]
  },
  {
   "cell_type": "code",
   "execution_count": 30,
   "id": "ea7a2d40-9e31-4a6b-b9c7-0797542b2e17",
   "metadata": {},
   "outputs": [],
   "source": [
    "rohan = pcu()"
   ]
  },
  {
   "cell_type": "code",
   "execution_count": 31,
   "id": "9d8358d5-2a20-41e0-92ce-f994677f5d54",
   "metadata": {},
   "outputs": [
    {
     "name": "stdout",
     "output_type": "stream",
     "text": [
      "<class '__main__.pcu'>\n"
     ]
    }
   ],
   "source": [
    "print(type(rohan))"
   ]
  },
  {
   "cell_type": "code",
   "execution_count": 32,
   "id": "0097bd0b-70cc-4d25-97e0-8ccc1e77974c",
   "metadata": {},
   "outputs": [
    {
     "name": "stdout",
     "output_type": "stream",
     "text": [
      "welcome to pcu\n"
     ]
    }
   ],
   "source": [
    "rohan.welcome_msg()"
   ]
  },
  {
   "cell_type": "code",
   "execution_count": 33,
   "id": "957ceef9-bc00-4ec8-a2a7-c8a2c5a7cb2a",
   "metadata": {},
   "outputs": [],
   "source": [
    "gaurav = pcu()"
   ]
  },
  {
   "cell_type": "code",
   "execution_count": 34,
   "id": "df1dd42c-c88f-4f1e-abb8-13462e51fe02",
   "metadata": {},
   "outputs": [
    {
     "name": "stdout",
     "output_type": "stream",
     "text": [
      "welcome to pcu\n"
     ]
    }
   ],
   "source": [
    "gaurav.welcome_msg()"
   ]
  },
  {
   "attachments": {},
   "cell_type": "markdown",
   "id": "eda48af7",
   "metadata": {},
   "source": [
    "In this code __init__ is constructor which is used to pass data in the class"
   ]
  },
  {
   "cell_type": "code",
   "execution_count": 35,
   "id": "a0c803d4-25f0-4f19-ac38-434120f84497",
   "metadata": {},
   "outputs": [],
   "source": [
    "class student1 :\n",
    "    \n",
    "    def __init__(self ,phone_number , email_id , student_id ): #__init__ is constuctor to pass data\n",
    "        self.phone_number = phone_number\n",
    "        self.email_id = email_id\n",
    "        self.student_id = student_id\n",
    "    \n",
    "    def return_student_details(self) : # Class method\n",
    "        return self.student_id ,self.phone_number ,self.email_id\n",
    "    "
   ]
  },
  {
   "cell_type": "code",
   "execution_count": 36,
   "id": "afc21b01-a33b-464c-a2fc-becf84c14cd7",
   "metadata": {},
   "outputs": [],
   "source": [
    "rohan = student1(122232432342, \"rohan@gmail.com\" , 101)"
   ]
  },
  {
   "cell_type": "code",
   "execution_count": 37,
   "id": "bc3241e2-7bcf-4169-91d2-a1f98f846096",
   "metadata": {},
   "outputs": [
    {
     "data": {
      "text/plain": [
       "122232432342"
      ]
     },
     "execution_count": 37,
     "metadata": {},
     "output_type": "execute_result"
    }
   ],
   "source": [
    "rohan.phone_number"
   ]
  },
  {
   "cell_type": "code",
   "execution_count": 38,
   "id": "b6d01b96-e406-4496-b42d-9cb0452c6cf7",
   "metadata": {},
   "outputs": [
    {
     "data": {
      "text/plain": [
       "'rohan@gmail.com'"
      ]
     },
     "execution_count": 38,
     "metadata": {},
     "output_type": "execute_result"
    }
   ],
   "source": [
    "rohan.email_id"
   ]
  },
  {
   "cell_type": "code",
   "execution_count": 39,
   "id": "9bd2123c-a261-4a4d-ae52-eb64573b53fa",
   "metadata": {},
   "outputs": [
    {
     "data": {
      "text/plain": [
       "(101, 122232432342, 'rohan@gmail.com')"
      ]
     },
     "execution_count": 39,
     "metadata": {},
     "output_type": "execute_result"
    }
   ],
   "source": [
    "rohan.return_student_details()"
   ]
  },
  {
   "cell_type": "code",
   "execution_count": 40,
   "id": "9128e91c-f9f3-43b1-b64e-9e3b177c6755",
   "metadata": {},
   "outputs": [],
   "source": [
    "gaurav = student1(98797867678, \"gaurav@gmail.com\" , 102)"
   ]
  },
  {
   "cell_type": "code",
   "execution_count": 41,
   "id": "8dc7ccfd-f72a-4898-95b0-2f4d9d19b8ee",
   "metadata": {},
   "outputs": [
    {
     "data": {
      "text/plain": [
       "(102, 98797867678, 'gaurav@gmail.com')"
      ]
     },
     "execution_count": 41,
     "metadata": {},
     "output_type": "execute_result"
    }
   ],
   "source": [
    "gaurav.return_student_details()"
   ]
  },
  {
   "cell_type": "code",
   "execution_count": 42,
   "id": "e09e7df0-922b-482a-a866-454539e9e70c",
   "metadata": {},
   "outputs": [],
   "source": [
    "class student2 :\n",
    "    \n",
    "    def __init__(self ,phone_number , email_id , student_id ):\n",
    "        self.phone_number1 = phone_number\n",
    "        self.email_id1 = email_id\n",
    "        self.student_id1 = student_id\n",
    "    \n",
    "    def return_student_details(self) : \n",
    "        return self.student_id1 ,self.phone_number1 ,self.email_id1\n",
    "    "
   ]
  },
  {
   "cell_type": "code",
   "execution_count": 43,
   "id": "358fb994-7d97-4807-9f28-3933b3979e2f",
   "metadata": {},
   "outputs": [],
   "source": [
    "sudh = student2(999954355, \"sudh@gmail.com\" , 102)"
   ]
  },
  {
   "cell_type": "code",
   "execution_count": 44,
   "id": "10f5cd7a-837f-455f-b2cb-df4cf496da50",
   "metadata": {},
   "outputs": [
    {
     "data": {
      "text/plain": [
       "999954355"
      ]
     },
     "execution_count": 44,
     "metadata": {},
     "output_type": "execute_result"
    }
   ],
   "source": [
    "sudh.phone_number1"
   ]
  },
  {
   "cell_type": "code",
   "execution_count": 45,
   "id": "e64431c0-7a55-48ba-9c4a-b9e12a52896a",
   "metadata": {},
   "outputs": [
    {
     "data": {
      "text/plain": [
       "'sudh@gmail.com'"
      ]
     },
     "execution_count": 45,
     "metadata": {},
     "output_type": "execute_result"
    }
   ],
   "source": [
    "sudh.email_id1"
   ]
  },
  {
   "cell_type": "code",
   "execution_count": 46,
   "id": "265a8fd0-40b9-45d6-959d-7e0d1c7400eb",
   "metadata": {},
   "outputs": [
    {
     "data": {
      "text/plain": [
       "(102, 999954355, 'sudh@gmail.com')"
      ]
     },
     "execution_count": 46,
     "metadata": {},
     "output_type": "execute_result"
    }
   ],
   "source": [
    "sudh.return_student_details()"
   ]
  },
  {
   "cell_type": "code",
   "execution_count": 47,
   "id": "9e471991-7b97-40aa-ada9-aaeeff51a1ed",
   "metadata": {},
   "outputs": [],
   "source": [
    "class student2 :\n",
    "    \n",
    "    def __init__(rahim ,phone_number , email_id , student_id ):\n",
    "        rahim.phone_number1 = phone_number\n",
    "        rahim.email_id1 = email_id\n",
    "        rahim.student_id1 = student_id\n",
    "    \n",
    "    def return_student_details(rahim) : \n",
    "        return rahim.student_id1 ,rahim.phone_number1 ,rahim.email_id1\n",
    "    "
   ]
  },
  {
   "cell_type": "code",
   "execution_count": 48,
   "id": "00e19e9e-4452-4ada-991d-e8e92dba7b44",
   "metadata": {},
   "outputs": [],
   "source": [
    "rohan = student2(345365, \"rohan@gmail.com\" , 324)"
   ]
  },
  {
   "cell_type": "code",
   "execution_count": 49,
   "id": "02c3459f-306a-4fc2-92ba-58d0a6afcfe3",
   "metadata": {},
   "outputs": [
    {
     "data": {
      "text/plain": [
       "345365"
      ]
     },
     "execution_count": 49,
     "metadata": {},
     "output_type": "execute_result"
    }
   ],
   "source": [
    "rohan.phone_number1"
   ]
  }
 ],
 "metadata": {
  "kernelspec": {
   "display_name": "Python 3 (ipykernel)",
   "language": "python",
   "name": "python3"
  },
  "language_info": {
   "codemirror_mode": {
    "name": "ipython",
    "version": 3
   },
   "file_extension": ".py",
   "mimetype": "text/x-python",
   "name": "python",
   "nbconvert_exporter": "python",
   "pygments_lexer": "ipython3",
   "version": "3.11.3"
  }
 },
 "nbformat": 4,
 "nbformat_minor": 5
}
